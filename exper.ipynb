{
 "cells": [
  {
   "cell_type": "code",
   "execution_count": null,
   "metadata": {},
   "outputs": [
    {
     "ename": "SystemExit",
     "evalue": "0",
     "output_type": "error",
     "traceback": [
      "An exception has occurred, use %tb to see the full traceback.\n",
      "\u001b[1;31mSystemExit\u001b[0m\u001b[1;31m:\u001b[0m 0\n"
     ]
    },
    {
     "name": "stderr",
     "output_type": "stream",
     "text": [
      "C:\\Users\\User\\AppData\\Roaming\\Python\\Python39\\site-packages\\IPython\\core\\interactiveshell.py:3558: UserWarning: To exit: use 'exit', 'quit', or Ctrl-D.\n",
      "  warn(\"To exit: use 'exit', 'quit', or Ctrl-D.\", stacklevel=1)\n"
     ]
    }
   ],
   "source": [
    "from PyQt5.QtWidgets import QWidget, QVBoxLayout, QTextEdit\n",
    "from collections import defaultdict\n",
    "\n",
    "class All_messages(QWidget):\n",
    "    def __init__(self):\n",
    "        super().__init__()\n",
    "        self.msg_dict = defaultdict(list)\n",
    "        self.setWindowTitle('All messages')\n",
    "        self.setGeometry(200, 200, 400, 400)\n",
    "\n",
    "        layout = QVBoxLayout()\n",
    "        \n",
    "        # Создаем виджет для вывода текста\n",
    "        self.messages = QTextEdit()\n",
    "        self.messages.setReadOnly(True)  # Делаем текстовое поле доступным только для чтения\n",
    "        \n",
    "        # Добавляем виджет в компоновку\n",
    "        layout.addWidget(self.messages)\n",
    "        \n",
    "        # Устанавливаем компоновку для окна\n",
    "        self.setLayout(layout)\n",
    "        \n",
    "        self.show()\n",
    "\n",
    "    # Метод для добавления сообщения в текстовое поле\n",
    "    def add_message(self, message):\n",
    "        self.messages.append(message)\n",
    "\n",
    "# Пример использования\n",
    "# Если вы хотите добавить текст в окно, можно создать экземпляр класса All_messages\n",
    "# и использовать метод add_message:\n",
    "#\n",
    "# window = All_messages()\n",
    "# window.add_message(\"Пример сообщения\")\n"
   ]
  },
  {
   "cell_type": "code",
   "execution_count": null,
   "metadata": {},
   "outputs": [],
   "source": [
    "class All_messages(QWidget):\n",
    "    def __init__(self, parent=None):\n",
    "        super().__init__(parent)\n",
    "        self.msg_dict = defaultdict(list)\n",
    "        self.setWindowTitle('All messages')\n",
    "        self.setGeometry(200, 200, 400, 400)\n",
    "\n",
    "        # Устанавливаем модальное окно\n",
    "        self.setWindowModality(Qt.ApplicationModal)\n",
    "\n",
    "        layout = QVBoxLayout()\n",
    "        \n",
    "        # Создаем виджет для вывода текста\n",
    "        self.messages = QTextEdit()\n",
    "        self.messages.setReadOnly(True)  # Делаем текстовое поле доступным только для чтения\n",
    "        \n",
    "        # Добавляем виджет в компоновку\n",
    "        layout.addWidget(self.messages)\n",
    "        \n",
    "        # Устанавливаем компоновку для окна\n",
    "        self.setLayout(layout)\n",
    "        \n",
    "        self.show()\n",
    "\n",
    "    # Метод для добавления сообщения в текстовое поле\n",
    "    def add_message(self, message):\n",
    "        self.messages.append(message)\n",
    "\n",
    "# Пример использования\n",
    "# window = All_messages()\n",
    "# window.add_message(\"Пример сообщения\")"
   ]
  }
 ],
 "metadata": {
  "kernelspec": {
   "display_name": "Python 3",
   "language": "python",
   "name": "python3"
  },
  "language_info": {
   "codemirror_mode": {
    "name": "ipython",
    "version": 3
   },
   "file_extension": ".py",
   "mimetype": "text/x-python",
   "name": "python",
   "nbconvert_exporter": "python",
   "pygments_lexer": "ipython3",
   "version": "3.9.0"
  }
 },
 "nbformat": 4,
 "nbformat_minor": 2
}
