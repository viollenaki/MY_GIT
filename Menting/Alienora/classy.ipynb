{
 "cells": [
  {
   "cell_type": "code",
   "execution_count": 2,
   "metadata": {},
   "outputs": [
    {
     "name": "stdout",
     "output_type": "stream",
     "text": [
      "18 Akbar\n",
      "Tynchtyk\n"
     ]
    }
   ],
   "source": [
    "class Client:\n",
    "    def __init__(case, name, age):\n",
    "        case.name = name\n",
    "        case.age = age\n",
    "\n",
    "    def get_name(case):\n",
    "        print( case.name)\n",
    "\n",
    "    def change_name(case, client):\n",
    "        case.name = client\n",
    "\n",
    "\n",
    "\n",
    "akbar = Client('Akbar', 18)\n",
    "print(akbar.age, akbar.name)\n",
    "akbar.change_name('Tynchtyk')\n",
    "print(akbar.name)\n",
    "\n",
    "\n"
   ]
  },
  {
   "cell_type": "code",
   "execution_count": 9,
   "metadata": {},
   "outputs": [
    {
     "name": "stdout",
     "output_type": "stream",
     "text": [
      "Akbar\n",
      "Alienora\n",
      "Atabek\n"
     ]
    }
   ],
   "source": [
    "arr = [Client('Akbar',18),Client('Alienora', 18), Client('Atabek', 20)]\n",
    "for i in arr:\n",
    "    print(i.name)\n",
    "\n",
    "\n"
   ]
  },
  {
   "cell_type": "code",
   "execution_count": null,
   "metadata": {},
   "outputs": [
    {
     "name": "stdout",
     "output_type": "stream",
     "text": [
      "Akbar\n",
      "Alienora\n",
      "Atabek\n"
     ]
    }
   ],
   "source": [
    "dict = {'1': Client('Akbar', 18),\n",
    "        '2': Client('Alienora', 18),\n",
    "        '3': Client('Atabek',20)}\n",
    "for val in dict.values():\n",
    "    val.get_name()\n"
   ]
  },
  {
   "cell_type": "code",
   "execution_count": null,
   "metadata": {},
   "outputs": [
    {
     "name": "stdout",
     "output_type": "stream",
     "text": [
      "1990\n",
      "emma stone\n",
      "True\n"
     ]
    }
   ],
   "source": [
    "class Book:\n",
    "    def __init__(self, name, author, year ):\n",
    "        self.name = name\n",
    "        self.author = author\n",
    "        self.year = year\n",
    "        self.available = True\n",
    "\n",
    "\n",
    "    def owe_book(self):\n",
    "        self.available = False\n",
    "\n",
    "    def return_book(self):\n",
    "        self.available = True\n",
    "\n",
    "class Reader:\n",
    "    def __init__(self, name, client_id, age):\n",
    "        self.name = name\n",
    "        self.id = client_id\n",
    "        self.age = age\n",
    "        self.history = []\n",
    "\n",
    "class Library:\n",
    "    def __init__(self):\n",
    "        self.knigi = {}\n",
    "        self.reader = {}\n",
    "        self.history = []\n",
    "\n",
    "    def add_book(self, title, author, year ):\n",
    "        self.knigi[title] = Book(title, author,year)\n",
    "        self.history.append(f'Book {title} has been appended')\n",
    "\n",
    "    def get_available_books(self):\n",
    "        for val in self.knigi.values():\n",
    "\n",
    "\n",
    "    # def owe_book(self, title):\n",
    "    #     if title in self.knigi:\n",
    "\n",
    "bashat = Library()\n",
    "bashat.add_book('Harry', \"emma stone\",1990)\n",
    "bashat.add_book('akkuu', \"Chyng\",1990)\n",
    "bashat.add_book('tyru', \"Mirbek\",1990)\n",
    "bashat.add_book('dfg', \"Gul\",1990)\n",
    "bashat.add_book('asd', \"Chokmorov\",1990)\n",
    "\n",
    "print(bashat.knigi['Harry'].year)\n",
    "print(bashat.knigi['Harry'].author)\n",
    "print(bashat.knigi['Harry'].available)\n"
   ]
  },
  {
   "cell_type": "code",
   "execution_count": null,
   "metadata": {},
   "outputs": [],
   "source": []
  }
 ],
 "metadata": {
  "kernelspec": {
   "display_name": "Python 3",
   "language": "python",
   "name": "python3"
  },
  "language_info": {
   "codemirror_mode": {
    "name": "ipython",
    "version": 3
   },
   "file_extension": ".py",
   "mimetype": "text/x-python",
   "name": "python",
   "nbconvert_exporter": "python",
   "pygments_lexer": "ipython3",
   "version": "3.13.0"
  }
 },
 "nbformat": 4,
 "nbformat_minor": 2
}
