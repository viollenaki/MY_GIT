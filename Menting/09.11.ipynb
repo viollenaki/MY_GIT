{
 "cells": [
  {
   "cell_type": "code",
   "execution_count": null,
   "metadata": {},
   "outputs": [],
   "source": [
    "library = {\n",
    "    'akkuu': \n",
    "    { 'name' : 'akkuu',\n",
    "      'price':500,\n",
    "      'year' : 1960\n",
    "    },\n",
    "\n",
    "    'jamilya': {\n",
    "        'name' : 'jamiliya',\n",
    "        'price' : 400,\n",
    "        'year' : 1980\n",
    "    },\n",
    "    'karekten akkan kozjash': {\n",
    "        'name':'karekten akkan kozjash',\n",
    "        'price': 350,\n",
    "        'year': 2023\n",
    "    }\n",
    "}\n",
    "#books has been written after 2000\n",
    "\n",
    "\n",
    "\n",
    "\n",
    "\n"
   ]
  },
  {
   "cell_type": "code",
   "execution_count": null,
   "metadata": {},
   "outputs": [],
   "source": [
    "d = {}\n",
    "\n",
    "d['adina'] = 1\n",
    "d['akbar'] = 1\n",
    "d['kutman'] = 1\n",
    "d['gul'] = 1\n",
    "d['akbar'] = d.get('akbar', 0) + 1\n",
    "d['aiana'] = d.get('aiana', 0) + 1\n",
    "if 'salma' not in d.keys():\n",
    "    d['salma'] = 1\n",
    "else:\n",
    "    d['salma'] += 1\n",
    "print(d)\n",
    "\n",
    "\n"
   ]
  },
  {
   "cell_type": "code",
   "execution_count": null,
   "metadata": {},
   "outputs": [],
   "source": [
    "from collections import defaultdict\n",
    "from random import shuffle\n",
    "d = defaultdict(int)\n",
    "d['adina']\n",
    "print(d['adina'], d['akbar']+1)"
   ]
  },
  {
   "cell_type": "code",
   "execution_count": 3,
   "metadata": {},
   "outputs": [
    {
     "name": "stdout",
     "output_type": "stream",
     "text": [
      "{'21': 2, '22': 2, '23': 1}\n"
     ]
    }
   ],
   "source": [
    "from csv import reader\n",
    "with open('students.csv') as students:\n",
    "    students = list(reader(students))\n",
    "students = students[1:]\n",
    "d = {}\n",
    "for name, age in students:\n",
    "    if age not in d:\n",
    "        d[age] = 1\n",
    "    else:\n",
    "        d[age] +=1\n",
    "print(d)\n"
   ]
  },
  {
   "cell_type": "code",
   "execution_count": null,
   "metadata": {},
   "outputs": [
    {
     "name": "stdout",
     "output_type": "stream",
     "text": [
      "{'21': 2, '22': 2, '23': 1}\n"
     ]
    }
   ],
   "source": [
    "for name,age in students:\n",
    "    d[age] = d.get(age, 0) + 1\n",
    "\n",
    "print(d)"
   ]
  },
  {
   "cell_type": "code",
   "execution_count": 161,
   "metadata": {},
   "outputs": [
    {
     "name": "stdout",
     "output_type": "stream",
     "text": [
      "adina {'name': None, 'price': None, 'year': None}\n",
      "akbar {'name': None, 'price': None, 'year': None}\n",
      "kutman {'name': None, 'price': None, 'year': None}\n"
     ]
    }
   ],
   "source": [
    "from collections import defaultdict\n",
    "dict = defaultdict(lambda : {\n",
    "        'name': None,\n",
    "        'price': None,\n",
    "        'year': None})\n",
    "dict['adina'] \n",
    "dict['akbar']\n",
    "dict['kutman']\n",
    "for key,val in dict.items():\n",
    "    print(key, val)"
   ]
  },
  {
   "cell_type": "code",
   "execution_count": 4,
   "metadata": {},
   "outputs": [
    {
     "name": "stdout",
     "output_type": "stream",
     "text": [
      "defaultdict(<class 'int'>, {'21': 2, '22': 2, '23': 1})\n"
     ]
    }
   ],
   "source": [
    "from collections import defaultdict\n",
    "dict = defaultdict(int)\n",
    "for name,age in students:\n",
    "    dict[age] +=1\n",
    "print(dict)"
   ]
  },
  {
   "cell_type": "code",
   "execution_count": null,
   "metadata": {},
   "outputs": [],
   "source": []
  }
 ],
 "metadata": {
  "kernelspec": {
   "display_name": "Python 3",
   "language": "python",
   "name": "python3"
  },
  "language_info": {
   "codemirror_mode": {
    "name": "ipython",
    "version": 3
   },
   "file_extension": ".py",
   "mimetype": "text/x-python",
   "name": "python",
   "nbconvert_exporter": "python",
   "pygments_lexer": "ipython3",
   "version": "3.13.0"
  }
 },
 "nbformat": 4,
 "nbformat_minor": 2
}
