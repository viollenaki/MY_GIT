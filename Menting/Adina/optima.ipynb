{
 "cells": [
  {
   "cell_type": "code",
   "execution_count": null,
   "metadata": {},
   "outputs": [],
   "source": [
    "class Client:\n",
    "    def __init__(self, name):\n",
    "        self.name = name\n",
    "        self.balance = 0\n",
    "        self.history = []\n",
    "\n",
    "    def add_balance(self, amount):\n",
    "        self.balance += amount\n",
    "\n",
    "    def remove_balance(self, amount):\n",
    "        self.balance -= amount\n",
    "\n",
    "    def get_balance(self):\n",
    "        return self.balance\n",
    "\n",
    "    def add_to_history(self, message):\n",
    "        self.history.append(message)\n",
    "\n",
    "    def get_history(self):\n",
    "        return self.history\n",
    "\n",
    "class Optima:\n",
    "    def __init__(self):\n",
    "        self.clients = {}\n",
    "        self.bank_balance = 0\n",
    "        self.bank_profit = 0\n",
    "        self.history = []\n",
    "        self.komissiya = 0.001\n",
    "\n",
    "    def add_client(self, client):\n",
    "        self.clients[client] = Client(client)\n",
    "\n",
    "    def add_balance(self, client, amount):\n",
    "        if client in self.clients:\n",
    "            self.clients[client].add_balance(amount)\n",
    "            self.bank_balance += amount\n",
    "            self.bank_profit += amount * self.komissiya\n",
    "            self.history.append(f'Balance of {client} added with amount {amount}')\n",
    "            self.clients[client].add_to_history(f'Balance of {client} added with amount {amount}')\n",
    "            print(f'Balance of {client} added with amount {amount}')\n",
    "        else:\n",
    "            print(f'Client {client} not found')\n",
    "\n",
    "    def remove_balance(self, client, amount):\n",
    "        if client in self.clients:\n",
    "            self.clients[client].remove_balance(amount)\n",
    "            self.bank_balance -= amount\n",
    "            self.history.append(f'Balance of {client} removed with amount {amount}')\n",
    "            self.clients[client].add_to_history(f'Balance of {client} removed with amount {amount}')\n",
    "            print(f'Balance of {client} removed with amount {amount}')\n",
    "        else:\n",
    "            print(f'Client {client} not found')\n",
    "\n",
    "    def get_balance(self, client):\n",
    "        if client in self.clients:\n",
    "            return self.clients[client].get_balance()\n",
    "        else:\n",
    "            print(f'Client {client} not found')\n",
    "\n",
    "    def transfer(self, from_client, to_client, amount):\n",
    "        if from_client in self.clients and to_client in self.clients:\n",
    "            self.clients[from_client].remove_balance(amount)\n",
    "            self.clients[to_client].add_balance(amount)\n",
    "            self.bank_profit += amount * self.komissiya\n",
    "            self.history.append(f'Transfer from {from_client} to {to_client} with amount {amount}')\n",
    "            print(f'Transfer from {from_client} to {to_client} with amount {amount}')\n",
    "        else:\n",
    "            print(f'Client {from_client} or {to_client} not found')\n",
    "\n",
    "    def get_client_history(self, client):\n",
    "        if client in self.clients:\n",
    "            return self.clients[client].get_history()\n",
    "        else:\n",
    "            print(f'Client {client} not found')\n",
    "\n",
    "\n",
    "\n",
    "\n",
    "\n",
    "\n",
    "\n",
    "\n",
    "\n",
    "\n",
    "\n",
    "\n",
    "\n",
    "\n",
    "\n"
   ]
  },
  {
   "cell_type": "code",
   "execution_count": 2,
   "metadata": {},
   "outputs": [
    {
     "name": "stdout",
     "output_type": "stream",
     "text": [
      "113420000\n"
     ]
    }
   ],
   "source": [
    "from random import randint\n",
    "arr = [randint(1,10) for _ in range(1024)]\n",
    "sum_ = 0\n",
    "for i in range(20000):\n",
    "    for j in range(0, len(arr)-1):\n",
    "        sum_ += arr[j]\n",
    "\n",
    "print(sum_)\n"
   ]
  },
  {
   "cell_type": "code",
   "execution_count": 5,
   "metadata": {},
   "outputs": [
    {
     "name": "stdout",
     "output_type": "stream",
     "text": [
      "52865410 0.3363776206970215\n"
     ]
    }
   ],
   "source": [
    "arr = [[randint(1,100) for i in range(1024)] for _ in range(1024)]\n",
    "from time import time\n",
    "start = time()\n",
    "sum = 0\n",
    "for i in range(0, len(arr)):\n",
    "    for j in range(0,len(arr[0])-1):\n",
    "        sum += arr[j][i]\n",
    "end = time()\n",
    "\n",
    "print(sum, end-start)\n",
    "\n"
   ]
  },
  {
   "cell_type": "code",
   "execution_count": 6,
   "metadata": {},
   "outputs": [
    {
     "name": "stdout",
     "output_type": "stream",
     "text": [
      "52906718 0.42363405227661133\n"
     ]
    }
   ],
   "source": [
    "arr = [[randint(1,100) for i in range(1024)] for _ in range(1024)]\n",
    "from time import time\n",
    "start = time()\n",
    "sum = 0\n",
    "for i in range(0, len(arr)):\n",
    "    for j in range(0,len(arr[0])-1):\n",
    "        sum += arr[i][j]\n",
    "end = time()\n",
    "\n",
    "print(sum, end-start)\n",
    "\n"
   ]
  },
  {
   "cell_type": "code",
   "execution_count": 10,
   "metadata": {},
   "outputs": [
    {
     "ename": "TypeError",
     "evalue": "'bool' object is not subscriptable",
     "output_type": "error",
     "traceback": [
      "\u001b[1;31m---------------------------------------------------------------------------\u001b[0m",
      "\u001b[1;31mTypeError\u001b[0m                                 Traceback (most recent call last)",
      "Cell \u001b[1;32mIn[10], line 10\u001b[0m\n\u001b[0;32m      8\u001b[0m     \u001b[38;5;28;01mfor\u001b[39;00m j \u001b[38;5;129;01min\u001b[39;00m \u001b[38;5;28mrange\u001b[39m(\u001b[38;5;241m1024\u001b[39m):\n\u001b[0;32m      9\u001b[0m         \u001b[38;5;28;01mfor\u001b[39;00m k \u001b[38;5;129;01min\u001b[39;00m \u001b[38;5;28mrange\u001b[39m(\u001b[38;5;241m1024\u001b[39m):\n\u001b[1;32m---> 10\u001b[0m             summ \u001b[38;5;241m+\u001b[39m\u001b[38;5;241m=\u001b[39m \u001b[43marr\u001b[49m\u001b[43m[\u001b[49m\u001b[43mk\u001b[49m\u001b[43m]\u001b[49m\u001b[43m[\u001b[49m\u001b[43mj\u001b[49m\u001b[43m]\u001b[49m[i]\n\u001b[0;32m     12\u001b[0m end \u001b[38;5;241m=\u001b[39m time()\n\u001b[0;32m     13\u001b[0m \u001b[38;5;28mprint\u001b[39m(summ, end \u001b[38;5;241m-\u001b[39m start)\n",
      "\u001b[1;31mTypeError\u001b[0m: 'bool' object is not subscriptable"
     ]
    }
   ],
   "source": [
    "from time import time\n",
    "from random import randint\n",
    "arr = [[[randint(1,10) for _ in range(1024)] for _ in range(1024) ] in range(1024)]\n",
    "\n",
    "summ= 0\n",
    "start = time()\n",
    "for i in range(1024):\n",
    "    for j in range(1024):\n",
    "        for k in range(1024):\n",
    "            summ += arr[k][j][i]\n",
    "\n",
    "end = time()\n",
    "print(summ, end - start)"
   ]
  }
 ],
 "metadata": {
  "kernelspec": {
   "display_name": "Python 3",
   "language": "python",
   "name": "python3"
  },
  "language_info": {
   "codemirror_mode": {
    "name": "ipython",
    "version": 3
   },
   "file_extension": ".py",
   "mimetype": "text/x-python",
   "name": "python",
   "nbconvert_exporter": "python",
   "pygments_lexer": "ipython3",
   "version": "3.13.0"
  }
 },
 "nbformat": 4,
 "nbformat_minor": 2
}
