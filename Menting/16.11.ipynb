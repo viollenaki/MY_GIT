{
 "cells": [
  {
   "cell_type": "code",
   "execution_count": null,
   "metadata": {},
   "outputs": [],
   "source": [
    "class Client:\n",
    "    def __init__(self, name, age):\n",
    "        self.name = name\n",
    "        self.age = age\n",
    "\n",
    "    def change(self, name):\n",
    "        self.name = name\n",
    "\n",
    "    def get_name(self):\n",
    "        return self.name\n",
    "\n",
    "    def get_age(self):\n",
    "        return self.age\n",
    "\n",
    "\n",
    "name = 'Akbar'\n",
    "akbar = Client(name, 18)\n",
    "\n",
    "akbar.change('Akbar')\n",
    "print(akbar.get_name())\n",
    "print(akbar.get_age())\n",
    "atabek = Client('Atabek', 20)\n",
    "\n",
    "print(atabek.get_name())\n"
   ]
  },
  {
   "cell_type": "code",
   "execution_count": null,
   "metadata": {},
   "outputs": [],
   "source": [
    "class Client:\n",
    "    def __init__(self, name, age):\n",
    "        self.name = name\n",
    "        self.age = age\n",
    "\n",
    "    def change(self, name):\n",
    "        self.name = name\n",
    "\n",
    "    def get_name(self):\n",
    "        return self.name\n",
    "\n",
    "    def get_age(self):\n",
    "        return self.age\n",
    "    \n",
    "\n",
    "arr = [Client('Akbar', 18), Client('Atabek', 20), Client('Adina', 18), Client('Alymbek', 17), Client('Aman', 17)]\n",
    "# print(arr[0].get_age())\n",
    "# print(arr[0].get_name())\n",
    "for i in arr:\n",
    "    print(i.get_name(),  i.get_age())\n",
    "\n",
    "def get_average():\n",
    "    total = 0\n",
    "    counter = 0\n",
    "    for i in arr:\n",
    "        total += i.age\n",
    "        counter +=1\n",
    "\n",
    "    return f'Average = {total/counter}'\n",
    "\n",
    "print(get_average())"
   ]
  },
  {
   "cell_type": "code",
   "execution_count": null,
   "metadata": {},
   "outputs": [],
   "source": [
    "class Client:\n",
    "    def __init__(self, name, age):\n",
    "        self.name = name\n",
    "        self.age = age\n",
    "\n",
    "    def change(self, name):\n",
    "        self.name = name\n",
    "\n",
    "    def get_name(self):\n",
    "        return self.name\n",
    "\n",
    "    def get_age(self):\n",
    "        return self.age\n",
    "    \n",
    "class Students:\n",
    "    def __init__(self):\n",
    "        self.dict = {}\n",
    "\n",
    "    def add_student(self, name, age):\n",
    "        self.dict[name] = Client(name, age)\n",
    "\n",
    "    def show_all_student_info(self):\n",
    "        for key,val in self.dict.items():\n",
    "            print(val.get_name(), val.get_age())\n",
    "\n",
    "    def show_short_var(self):\n",
    "        return [(val.get_name(), val.get_age()) for val in self.dict.values() ]\n",
    "    \n",
    "ait24 = Students()\n",
    "\n",
    "ait24.add_student('Akbar', 18)\n",
    "ait24.add_student('Adina', 17 )\n",
    "ait24.add_student('Atabek', 20 )\n",
    "ait24.add_student('Aman', 17 )\n",
    "ait24.add_student('Alymbek', 17 )\n",
    "ait24.show_all_student_info()\n",
    "ait24.show_short_var()\n",
    "    "
   ]
  },
  {
   "cell_type": "code",
   "execution_count": 19,
   "metadata": {},
   "outputs": [
    {
     "name": "stdout",
     "output_type": "stream",
     "text": [
      "Akbar\n",
      "18\n"
     ]
    }
   ],
   "source": [
    "class Student:\n",
    "    def __init__(self):\n",
    "        self.name = ''\n",
    "        self.age = 0\n",
    "\n",
    "    def get_name(self   ):\n",
    "        return self.name\n",
    "\n",
    "    def get_age(self):\n",
    "        return self.age   \n",
    "akbar = Student()\n",
    "akbar.age = 18\n",
    "akbar.name = 'Akbar'\n",
    "\n",
    "print(akbar.get_name())\n",
    "print(akbar.get_age())\n",
    "\n"
   ]
  },
  {
   "cell_type": "code",
   "execution_count": 20,
   "metadata": {},
   "outputs": [
    {
     "name": "stdout",
     "output_type": "stream",
     "text": [
      "18 Akbar\n"
     ]
    }
   ],
   "source": [
    "class Student:\n",
    "    def __init__(self, name, age):\n",
    "        self.name = name\n",
    "        self.age = age\n",
    "\n",
    "    def get_name(self):\n",
    "        return self.name\n",
    "    def get_age(self):\n",
    "        return self.age\n",
    "    \n",
    "\n",
    "akbar = Student('Akbar', 18)\n",
    "print(akbar.get_age() , akbar.get_name())\n"
   ]
  },
  {
   "cell_type": "code",
   "execution_count": 2,
   "metadata": {},
   "outputs": [
    {
     "name": "stdout",
     "output_type": "stream",
     "text": [
      "3\n"
     ]
    }
   ],
   "source": [
    "class MathOperations:\n",
    "    def __init__(self):\n",
    "        pass\n",
    "    \n",
    "    def add(a,b):\n",
    "        return a+b\n",
    "    def subtract(a,b):\n",
    "        return a-b\n",
    "\n",
    "    def find_sqrt(a):\n",
    "        from math import sqrt\n",
    "        return sqrt(a) \n",
    "    \n",
    "    def multiply(a,b):\n",
    "        return a*b\n",
    "    \n",
    "    def toPower(a,b):\n",
    "        return a**b\n",
    "    \n",
    "    def division(a,b):\n",
    "        return a/b\n",
    "    \n",
    "operations = MathOperations\n",
    "\n",
    "print(operations.add(1,2))\n",
    "\n",
    "\n",
    "\n",
    "\n"
   ]
  },
  {
   "cell_type": "code",
   "execution_count": null,
   "metadata": {},
   "outputs": [],
   "source": [
    "\n",
    "\n"
   ]
  }
 ],
 "metadata": {
  "kernelspec": {
   "display_name": "Python 3",
   "language": "python",
   "name": "python3"
  },
  "language_info": {
   "codemirror_mode": {
    "name": "ipython",
    "version": 3
   },
   "file_extension": ".py",
   "mimetype": "text/x-python",
   "name": "python",
   "nbconvert_exporter": "python",
   "pygments_lexer": "ipython3",
   "version": "3.13.0"
  }
 },
 "nbformat": 4,
 "nbformat_minor": 2
}
