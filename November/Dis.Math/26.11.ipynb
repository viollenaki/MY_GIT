{
 "cells": [
  {
   "cell_type": "code",
   "execution_count": null,
   "metadata": {},
   "outputs": [],
   "source": [
    "from random import randint\n",
    "arr = [randint (1,100) for _ in range(20)]\n",
    "a = float('-inf')\n",
    "def get_max(arr):\n",
    "    global a\n",
    "    if a < arr[0]:\n",
    "        a = arr[0]\n",
    "        if len(arr)!=1:\n",
    "            return get_max(arr[1:])\n",
    "        else:\n",
    "            return arr[0]\n",
    "    else:\n",
    "        if len(arr)!=1:\n",
    "            return get_max(arr[1:])\n",
    "        else:\n",
    "            return arr[0]\n",
    "print(arr)\n",
    "get_max(arr)\n",
    "print(a)\n",
    "print(max(arr))\n"
   ]
  },
  {
   "cell_type": "code",
   "execution_count": null,
   "metadata": {},
   "outputs": [],
   "source": [
    "arr = [randint (1,100) for _ in range(20)] + [97]\n",
    "max_num = float('-inf')\n",
    "def get_max(num_id,max_num):    \n",
    "    if arr[num_id]>max_num: \n",
    "        max_num = arr[num_id]\n",
    "    if num_id < len(arr)-1:\n",
    "        return get_max(num_id+1, max_num )\n",
    "    else:\n",
    "        return max_num\n",
    "print(get_max(0,max_num))\n",
    "print(arr,'\\n' ,max(arr))\n"
   ]
  },
  {
   "cell_type": "code",
   "execution_count": null,
   "metadata": {},
   "outputs": [],
   "source": [
    "from random import randint\n",
    "arr = [randint (1,100) for _ in range(20)]\n",
    "a = float('-inf')\n",
    "def get_max(arr):\n",
    "    global a\n",
    "    if len(arr) == 1:\n",
    "        return arr[0]\n",
    "    else:\n",
    "        if a < arr[0]:\n",
    "            a = arr[0]\n",
    "            return get_max(arr[1:])\n",
    "        \n",
    "        else:\n",
    "            return get_max(arr[1:])\n",
    "print(arr)\n",
    "get_max(arr)\n",
    "print(a)\n",
    "print(max(arr))\n"
   ]
  },
  {
   "cell_type": "code",
   "execution_count": null,
   "metadata": {},
   "outputs": [
    {
     "name": "stdout",
     "output_type": "stream",
     "text": [
      "False\n",
      "False\n",
      "True\n"
     ]
    }
   ],
   "source": [
    "arr1 = [1,2,5,4]\n",
    "arr2=[1,3,2,4]\n",
    "arr3 = [1,2,3,4,5]\n",
    "def get_if_sorted(arr):\n",
    "    if len(arr) == 1:\n",
    "        return True\n",
    "    else:\n",
    "        if arr[0] > arr[1]:\n",
    "            return False\n",
    "        else:\n",
    "            return get_if_sorted(arr[1:])\n",
    "print(get_if_sorted(arr1))\n",
    "print(get_if_sorted(arr2))\n",
    "print(get_if_sorted(arr3))\n"
   ]
  },
  {
   "cell_type": "code",
   "execution_count": 4,
   "metadata": {},
   "outputs": [
    {
     "name": "stdout",
     "output_type": "stream",
     "text": [
      "False\n",
      "False\n",
      "False\n"
     ]
    }
   ],
   "source": [
    "def get_if_sorted(arr):  \n",
    "    if len(arr) == 1:\n",
    "        return arr[0]\n",
    "    if arr[0]<get_if_sorted(arr[1:]):\n",
    "        return True\n",
    "    else:\n",
    "        return False\n",
    "print(get_if_sorted(arr1))\n",
    "print(get_if_sorted(arr2))\n",
    "print(get_if_sorted(arr3))"
   ]
  },
  {
   "cell_type": "code",
   "execution_count": 7,
   "metadata": {},
   "outputs": [
    {
     "name": "stdout",
     "output_type": "stream",
     "text": [
      "False\n",
      "False\n",
      "True\n"
     ]
    }
   ],
   "source": [
    "def If_sorted(a,b,arr):\n",
    "    if len(arr) == 1:\n",
    "        return True\n",
    "    else:\n",
    "        if b == len(arr):\n",
    "            return True\n",
    "        \n",
    "        if arr[a]>arr[b]:\n",
    "            return False\n",
    "        else:\n",
    "            return If_sorted(a+1,b+1,arr)\n",
    "print(If_sorted(0,1,arr1))\n",
    "print(If_sorted(0,1,arr2))\n",
    "print(If_sorted(0,1,arr3))"
   ]
  },
  {
   "cell_type": "code",
   "execution_count": 39,
   "metadata": {},
   "outputs": [
    {
     "name": "stdout",
     "output_type": "stream",
     "text": [
      "[1, 6, 5, 8, 5]\n",
      "14\n"
     ]
    }
   ],
   "source": [
    "from random import randint\n",
    "arr = [randint(1,10)   for _ in range(5)]\n",
    "def sum_even(arr):\n",
    "    if len(arr) == 0:\n",
    "        return 0\n",
    "    else:\n",
    "        if arr[0]%2 == 0:\n",
    "            return arr[0] + sum_even(arr[1:])\n",
    "        else:\n",
    "            return sum_even(arr[1:])\n",
    "print(arr)\n",
    "print(sum_even(arr))"
   ]
  },
  {
   "cell_type": "code",
   "execution_count": 36,
   "metadata": {},
   "outputs": [
    {
     "name": "stdout",
     "output_type": "stream",
     "text": [
      "44\n"
     ]
    }
   ],
   "source": [
    "arr = [randint(1,10)   for _ in range(20)]\n",
    "def get_if_even(a):\n",
    "    if a%2 == 0:\n",
    "        return True\n",
    "    else:\n",
    "        return False\n",
    "print(sum([i for i in arr if get_if_even(i)]))"
   ]
  },
  {
   "cell_type": "code",
   "execution_count": null,
   "metadata": {},
   "outputs": [],
   "source": []
  }
 ],
 "metadata": {
  "kernelspec": {
   "display_name": "Python 3",
   "language": "python",
   "name": "python3"
  },
  "language_info": {
   "codemirror_mode": {
    "name": "ipython",
    "version": 3
   },
   "file_extension": ".py",
   "mimetype": "text/x-python",
   "name": "python",
   "nbconvert_exporter": "python",
   "pygments_lexer": "ipython3",
   "version": "3.13.0"
  }
 },
 "nbformat": 4,
 "nbformat_minor": 2
}
