{
 "cells": [
  {
   "cell_type": "code",
   "execution_count": null,
   "metadata": {},
   "outputs": [
    {
     "name": "stdout",
     "output_type": "stream",
     "text": [
      "0.011209726333618164\n",
      "0.4472532272338867\n"
     ]
    },
    {
     "ename": "ValueError",
     "evalue": "too many values to unpack (expected 2)",
     "output_type": "error",
     "traceback": [
      "\u001b[1;31m---------------------------------------------------------------------------\u001b[0m",
      "\u001b[1;31mValueError\u001b[0m                                Traceback (most recent call last)",
      "Cell \u001b[1;32mIn[3], line 24\u001b[0m\n\u001b[0;32m     22\u001b[0m resStraight \u001b[38;5;241m=\u001b[39m []\n\u001b[0;32m     23\u001b[0m start \u001b[38;5;241m=\u001b[39m time()\n\u001b[1;32m---> 24\u001b[0m \u001b[38;5;28;01mfor\u001b[39;00m (i, j)  \u001b[38;5;129;01min\u001b[39;00m (matrix, \u001b[38;5;28mrange\u001b[39m(\u001b[38;5;241m10\u001b[39m)):\n\u001b[0;32m     25\u001b[0m     \u001b[38;5;28;01mtry\u001b[39;00m:\n\u001b[0;32m     26\u001b[0m         resStraight\u001b[38;5;241m.\u001b[39mappend(\u001b[38;5;28msum\u001b[39m(i[j::\u001b[38;5;241m10\u001b[39m]))\n",
      "\u001b[1;31mValueError\u001b[0m: too many values to unpack (expected 2)"
     ]
    }
   ],
   "source": [
    "from random import randint \n",
    "from time import time \n",
    "matrix = [[randint(1,100) for _ in range(1000)] for _ in range(1000)]\n",
    "resR = []\n",
    "start = time()\n",
    "for row in matrix:\n",
    "    resR.append(sum(row))\n",
    "end = time()\n",
    "print(end - start)\n",
    "\n",
    "resC = []\n",
    "start = time()\n",
    "for i in range(1000):\n",
    "    temp = 0\n",
    "    for j in range(1000):\n",
    "        temp += matrix[j][i]\n",
    "    resC.append(temp)\n",
    "end = time()\n",
    "print(end - start)\n",
    "\n",
    "\n",
    "resStraight = []\n",
    "start = time()\n",
    "for (i, j)  in (matrix, range(10)):\n",
    "    try:\n",
    "        resStraight.append(sum(i[j::10]))\n",
    "    except:\n",
    "        pass\n",
    "end = time()\n",
    "print(end-start)\n",
    "print(len(resStraight))\n",
    "\n",
    "\n",
    "\n",
    "\n"
   ]
  },
  {
   "cell_type": "code",
   "execution_count": null,
   "metadata": {},
   "outputs": [
    {
     "name": "stdout",
     "output_type": "stream",
     "text": [
      "akbar bekbolsun emil atai gulnur akbar bekbolsun emil atai gulnur akbar bekbolsun emil atai gulnur akbar bekbolsun emil atai gulnur akbar bekbolsun emil atai gulnur\n"
     ]
    }
   ],
   "source": [
    "arr = ['akbar','bekbolsun','emil','atai','gulnur'] * 5\n",
    "print(' '.join(arr))"
   ]
  },
  {
   "cell_type": "code",
   "execution_count": null,
   "metadata": {},
   "outputs": [
    {
     "name": "stdout",
     "output_type": "stream",
     "text": [
      "defaultdict(<class 'int'>, {})\n",
      "0\n",
      "0\n",
      "0\n"
     ]
    }
   ],
   "source": [
    "from collections import defaultdict\n",
    "class Kofeyna:\n",
    "    def __init__(self):\n",
    "        self.personal = None\n",
    "        self.history = []\n",
    "        self.purchase_prices = defaultdict(int)\n",
    "        self.sale_prices = defaultdict(int)\n",
    "        self.quantity = defaultdict(int)\n",
    "        self.total = 0\n",
    "        self.kassa = 0\n",
    "        self.history_purchase = []\n",
    "\n",
    "\n",
    "    def getHistory(self):\n",
    "        for i in self.history:\n",
    "            print(i)\n",
    "        \n",
    "\n",
    "    def sellItems(self,item):\n",
    "        sale_price = self.sale_prices.get(item, 0)\n",
    "        purchase_price = self.purchase_prices.get(item, 0)\n",
    "        if self.quantity[item] > 0:\n",
    "            self.quantity[item] -= 1\n",
    "        else:\n",
    "            print('Item does not exist')\n",
    "        self.total += sale_price - purchase_price\n",
    "        self.kassa += sale_price\n",
    "        self.history.append(f'{item} : {sale_price} : {self.personal}')\n",
    "\n",
    "    def getProfit(self):\n",
    "        return self.total\n",
    "    \n",
    "    def getKassa(self):\n",
    "        return self.kassa\n",
    "\n",
    "    def getCurrentPersonal(self):\n",
    "        return self.personal\n",
    "    \n",
    "    def changePersonal(self, personal):\n",
    "        self.personal = personal\n",
    "\n",
    "    def addItem(self, item, quantity, price):\n",
    "        self.purchase_prices[item] = price\n",
    "        self.sale_prices[item] = price * 1.25\n",
    "        self.quantity[item] += quantity\n",
    "        self.history_purchase.append(f'{item} : {price} : {quantity} : {self.personal}')\n",
    "    \n",
    "    def getPurchaseHistory(self):\n",
    "        return '\\n'.join(self.history_purchase)\n",
    "\n",
    "    def getItems(self):\n",
    "        arr = []\n",
    "        for item, quantity in self.quantity.items():\n",
    "            if quantity > 0:\n",
    "                arr.append(f'{item} : {quantity}')\n",
    "        return '\\n'.join(arr)\n",
    "    \n",
    "    \n",
    "    \n",
    "\n",
    "    \n",
    "    \n",
    "\n",
    "\n"
   ]
  }
 ],
 "metadata": {
  "kernelspec": {
   "display_name": "Python 3",
   "language": "python",
   "name": "python3"
  },
  "language_info": {
   "codemirror_mode": {
    "name": "ipython",
    "version": 3
   },
   "file_extension": ".py",
   "mimetype": "text/x-python",
   "name": "python",
   "nbconvert_exporter": "python",
   "pygments_lexer": "ipython3",
   "version": "3.13.0"
  }
 },
 "nbformat": 4,
 "nbformat_minor": 2
}
